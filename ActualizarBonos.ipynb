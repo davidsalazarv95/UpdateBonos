{
 "cells": [
  {
   "cell_type": "markdown",
   "metadata": {
    "toc": "true"
   },
   "source": [
    "# Table of Contents\n",
    " <p>"
   ]
  },
  {
   "cell_type": "code",
   "execution_count": 19,
   "metadata": {
    "collapsed": false
   },
   "outputs": [
    {
     "name": "stdout",
     "output_type": "stream",
     "text": [
      "Los datos fueron actualizados en: 10/02/2017 15:40\n"
     ]
    }
   ],
   "source": [
    "from funciones_tesouro import *\n",
    "df, fecha = coger_todo()\n",
    "print(\"Los datos fueron actualizados en: \" + fecha)"
   ]
  },
  {
   "cell_type": "code",
   "execution_count": 20,
   "metadata": {
    "collapsed": false
   },
   "outputs": [
    {
     "data": {
      "text/html": [
       "<div>\n",
       "<table border=\"1\" class=\"dataframe\">\n",
       "  <thead>\n",
       "    <tr style=\"text-align: right;\">\n",
       "      <th></th>\n",
       "      <th>Bond</th>\n",
       "      <th>Price</th>\n",
       "    </tr>\n",
       "  </thead>\n",
       "  <tbody>\n",
       "    <tr>\n",
       "      <th>0</th>\n",
       "      <td>Tesouro IPCA+ 2019 (NTNB Princ)</td>\n",
       "      <td>2634.77</td>\n",
       "    </tr>\n",
       "    <tr>\n",
       "      <th>1</th>\n",
       "      <td>Tesouro IPCA+ 2024 (NTNB Princ)</td>\n",
       "      <td>2010.24</td>\n",
       "    </tr>\n",
       "    <tr>\n",
       "      <th>2</th>\n",
       "      <td>Tesouro IPCA+ 2035 (NTNB Princ)</td>\n",
       "      <td>1153.14</td>\n",
       "    </tr>\n",
       "    <tr>\n",
       "      <th>3</th>\n",
       "      <td>Tesouro IPCA+ 2045 (NTNB Princ)</td>\n",
       "      <td>686.39</td>\n",
       "    </tr>\n",
       "    <tr>\n",
       "      <th>4</th>\n",
       "      <td>Tesouro IPCA+ com Juros Semestrais 2017 (NTNB)</td>\n",
       "      <td>3013.47</td>\n",
       "    </tr>\n",
       "    <tr>\n",
       "      <th>5</th>\n",
       "      <td>Tesouro IPCA+ com Juros Semestrais 2020 (NTNB)</td>\n",
       "      <td>3102.07</td>\n",
       "    </tr>\n",
       "    <tr>\n",
       "      <th>6</th>\n",
       "      <td>Tesouro IPCA+ com Juros Semestrais 2024 (NTNB)</td>\n",
       "      <td>3166.80</td>\n",
       "    </tr>\n",
       "    <tr>\n",
       "      <th>7</th>\n",
       "      <td>Tesouro IPCA+ com Juros Semestrais 2026 (NTNB)</td>\n",
       "      <td>3183.90</td>\n",
       "    </tr>\n",
       "    <tr>\n",
       "      <th>8</th>\n",
       "      <td>Tesouro IPCA+ com Juros Semestrais 2035 (NTNB)</td>\n",
       "      <td>3234.86</td>\n",
       "    </tr>\n",
       "    <tr>\n",
       "      <th>9</th>\n",
       "      <td>Tesouro IPCA+ com Juros Semestrais 2045 (NTNB)</td>\n",
       "      <td>3259.80</td>\n",
       "    </tr>\n",
       "    <tr>\n",
       "      <th>10</th>\n",
       "      <td>Tesouro IPCA+ com Juros Semestrais 2050 (NTNB)</td>\n",
       "      <td>3354.34</td>\n",
       "    </tr>\n",
       "    <tr>\n",
       "      <th>11</th>\n",
       "      <td>Tesouro Prefixado 2018 (LTN)</td>\n",
       "      <td>915.44</td>\n",
       "    </tr>\n",
       "    <tr>\n",
       "      <th>12</th>\n",
       "      <td>Tesouro Prefixado 2019 (LTN)</td>\n",
       "      <td>834.91</td>\n",
       "    </tr>\n",
       "    <tr>\n",
       "      <th>13</th>\n",
       "      <td>Tesouro Prefixado 2020 (LTN)</td>\n",
       "      <td>756.10</td>\n",
       "    </tr>\n",
       "    <tr>\n",
       "      <th>14</th>\n",
       "      <td>Tesouro Prefixado 2021 (LTN)</td>\n",
       "      <td>682.96</td>\n",
       "    </tr>\n",
       "    <tr>\n",
       "      <th>15</th>\n",
       "      <td>Tesouro Prefixado 2023 (LTN)</td>\n",
       "      <td>555.07</td>\n",
       "    </tr>\n",
       "    <tr>\n",
       "      <th>16</th>\n",
       "      <td>Tesouro Prefixado com Juros Semestrais 2021 (N...</td>\n",
       "      <td>1004.02</td>\n",
       "    </tr>\n",
       "    <tr>\n",
       "      <th>17</th>\n",
       "      <td>Tesouro Prefixado com Juros Semestrais 2023 (N...</td>\n",
       "      <td>994.85</td>\n",
       "    </tr>\n",
       "    <tr>\n",
       "      <th>18</th>\n",
       "      <td>Tesouro Prefixado com Juros Semestrais 2025 (N...</td>\n",
       "      <td>991.80</td>\n",
       "    </tr>\n",
       "    <tr>\n",
       "      <th>19</th>\n",
       "      <td>Tesouro Prefixado com Juros Semestrais 2027 (N...</td>\n",
       "      <td>989.75</td>\n",
       "    </tr>\n",
       "    <tr>\n",
       "      <th>20</th>\n",
       "      <td>Tesouro Selic 2017 (LFT)</td>\n",
       "      <td>8571.06</td>\n",
       "    </tr>\n",
       "    <tr>\n",
       "      <th>21</th>\n",
       "      <td>Tesouro Selic 2021 (LFT)</td>\n",
       "      <td>8540.23</td>\n",
       "    </tr>\n",
       "    <tr>\n",
       "      <th>22</th>\n",
       "      <td>Tesouro Selic 2023 (LFT)</td>\n",
       "      <td>8519.76</td>\n",
       "    </tr>\n",
       "    <tr>\n",
       "      <th>23</th>\n",
       "      <td>Tesouro IGPM+ com Juros Semestrais 2017 (NTNC)</td>\n",
       "      <td>3638.25</td>\n",
       "    </tr>\n",
       "    <tr>\n",
       "      <th>24</th>\n",
       "      <td>Tesouro IGPM+ com Juros Semestrais 2021 (NTNC)</td>\n",
       "      <td>3748.54</td>\n",
       "    </tr>\n",
       "    <tr>\n",
       "      <th>25</th>\n",
       "      <td>Tesouro IGPM+ com Juros Semestrais 2031 (NTNC)</td>\n",
       "      <td>5875.38</td>\n",
       "    </tr>\n",
       "  </tbody>\n",
       "</table>\n",
       "</div>"
      ],
      "text/plain": [
       "                                                 Bond    Price\n",
       "0                     Tesouro IPCA+ 2019 (NTNB Princ)  2634.77\n",
       "1                     Tesouro IPCA+ 2024 (NTNB Princ)  2010.24\n",
       "2                     Tesouro IPCA+ 2035 (NTNB Princ)  1153.14\n",
       "3                     Tesouro IPCA+ 2045 (NTNB Princ)   686.39\n",
       "4      Tesouro IPCA+ com Juros Semestrais 2017 (NTNB)  3013.47\n",
       "5      Tesouro IPCA+ com Juros Semestrais 2020 (NTNB)  3102.07\n",
       "6      Tesouro IPCA+ com Juros Semestrais 2024 (NTNB)  3166.80\n",
       "7      Tesouro IPCA+ com Juros Semestrais 2026 (NTNB)  3183.90\n",
       "8      Tesouro IPCA+ com Juros Semestrais 2035 (NTNB)  3234.86\n",
       "9      Tesouro IPCA+ com Juros Semestrais 2045 (NTNB)  3259.80\n",
       "10     Tesouro IPCA+ com Juros Semestrais 2050 (NTNB)  3354.34\n",
       "11                       Tesouro Prefixado 2018 (LTN)   915.44\n",
       "12                       Tesouro Prefixado 2019 (LTN)   834.91\n",
       "13                       Tesouro Prefixado 2020 (LTN)   756.10\n",
       "14                       Tesouro Prefixado 2021 (LTN)   682.96\n",
       "15                       Tesouro Prefixado 2023 (LTN)   555.07\n",
       "16  Tesouro Prefixado com Juros Semestrais 2021 (N...  1004.02\n",
       "17  Tesouro Prefixado com Juros Semestrais 2023 (N...   994.85\n",
       "18  Tesouro Prefixado com Juros Semestrais 2025 (N...   991.80\n",
       "19  Tesouro Prefixado com Juros Semestrais 2027 (N...   989.75\n",
       "20                           Tesouro Selic 2017 (LFT)  8571.06\n",
       "21                           Tesouro Selic 2021 (LFT)  8540.23\n",
       "22                           Tesouro Selic 2023 (LFT)  8519.76\n",
       "23     Tesouro IGPM+ com Juros Semestrais 2017 (NTNC)  3638.25\n",
       "24     Tesouro IGPM+ com Juros Semestrais 2021 (NTNC)  3748.54\n",
       "25     Tesouro IGPM+ com Juros Semestrais 2031 (NTNC)  5875.38"
      ]
     },
     "execution_count": 20,
     "metadata": {},
     "output_type": "execute_result"
    }
   ],
   "source": [
    "df"
   ]
  },
  {
   "cell_type": "code",
   "execution_count": 8,
   "metadata": {
    "collapsed": false
   },
   "outputs": [],
   "source": [
    "import gspread\n",
    "from oauth2client.service_account import ServiceAccountCredentials\n",
    "\n",
    "scope = ['https://spreadsheets.google.com/feeds']\n",
    "\n",
    "credentials = ServiceAccountCredentials.from_json_keyfile_name('PruebaPython-8a97b6c1f08a.json', scope)\n",
    "\n",
    "gc = gspread.authorize(credentials)"
   ]
  },
  {
   "cell_type": "code",
   "execution_count": 17,
   "metadata": {
    "collapsed": false
   },
   "outputs": [],
   "source": [
    "sh1 = gc.open('Tesouro')\n",
    "worksheet = sh1.get_worksheet(0)"
   ]
  },
  {
   "cell_type": "code",
   "execution_count": 26,
   "metadata": {
    "collapsed": false
   },
   "outputs": [],
   "source": [
    "cell_list = worksheet.range('A1:A26')\n",
    "i = 0\n",
    "for cell in cell_list:\n",
    "    cell.value = df.iloc[i, 0]\n",
    "    i += 1\n",
    "cell_list2 = worksheet.range('B1:B26')"
   ]
  },
  {
   "cell_type": "code",
   "execution_count": 27,
   "metadata": {
    "collapsed": false
   },
   "outputs": [],
   "source": [
    "i = 0\n",
    "for cell in cell_list2:\n",
    "    cell.value = df.iloc[i, 1]\n",
    "    i += 1"
   ]
  },
  {
   "cell_type": "code",
   "execution_count": 29,
   "metadata": {
    "collapsed": true
   },
   "outputs": [],
   "source": [
    "worksheet.update_cells(cell_list)\n",
    "worksheet.update_cells(cell_list2)"
   ]
  },
  {
   "cell_type": "code",
   "execution_count": 39,
   "metadata": {
    "collapsed": false
   },
   "outputs": [],
   "source": [
    "worksheet.update_cell(1, 3, \"Los datos fueron actualizados en: \" +  fecha)"
   ]
  },
  {
   "cell_type": "code",
   "execution_count": 35,
   "metadata": {
    "collapsed": false
   },
   "outputs": [
    {
     "data": {
      "text/plain": [
       "'10/02/2017 15:40'"
      ]
     },
     "execution_count": 35,
     "metadata": {},
     "output_type": "execute_result"
    }
   ],
   "source": [
    "fecha"
   ]
  },
  {
   "cell_type": "code",
   "execution_count": null,
   "metadata": {
    "collapsed": true
   },
   "outputs": [],
   "source": []
  }
 ],
 "metadata": {
  "anaconda-cloud": {},
  "kernelspec": {
   "display_name": "Python [Root]",
   "language": "python",
   "name": "Python [Root]"
  },
  "language_info": {
   "codemirror_mode": {
    "name": "ipython",
    "version": 3
   },
   "file_extension": ".py",
   "mimetype": "text/x-python",
   "name": "python",
   "nbconvert_exporter": "python",
   "pygments_lexer": "ipython3",
   "version": "3.5.2"
  },
  "latex_envs": {
   "bibliofile": "biblio.bib",
   "cite_by": "apalike",
   "current_citInitial": 1,
   "eqLabelWithNumbers": true,
   "eqNumInitial": 0
  },
  "nav_menu": {},
  "toc": {
   "navigate_menu": true,
   "number_sections": true,
   "sideBar": true,
   "threshold": 6,
   "toc_cell": true,
   "toc_section_display": "block",
   "toc_window_display": true
  }
 },
 "nbformat": 4,
 "nbformat_minor": 0
}
