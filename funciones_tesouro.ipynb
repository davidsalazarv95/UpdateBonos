{
 "cells": [
  {
   "cell_type": "code",
   "execution_count": 2,
   "metadata": {
    "collapsed": true
   },
   "outputs": [],
   "source": [
    "def quitar(x):\n",
    "    y = x[2:len(x)]\n",
    "    w = y.replace('.', '')\n",
    "    return float(w.replace(',', '.'))"
   ]
  },
  {
   "cell_type": "code",
   "execution_count": 3,
   "metadata": {
    "collapsed": true
   },
   "outputs": [],
   "source": [
    "def scrap_bonds():\n",
    "    import csv\n",
    "    from urllib.request import urlopen \n",
    "    from bs4 import BeautifulSoup\n",
    "    html = urlopen(\"http://www.tesouro.fazenda.gov.br/web/stn/tesouro-direto-precos-e-taxas-dos-titulos\") \n",
    "    bsObj = BeautifulSoup(html, \"lxml\")\n",
    "    table = bsObj.findAll(\"table\",{\"class\":\"tabelaPrecoseTaxas sanfonado\"})\n",
    "    bond = []\n",
    "    price = []\n",
    "    i = 0\n",
    "    for row in table[0].findAll(\"tr\"):\n",
    "        g = 0\n",
    "        for col in row.find_all('td'):\n",
    "            if g == 0:\n",
    "                bond.append(col.string.strip())\n",
    "            elif g == 3:\n",
    "                price.append(col.string.strip())\n",
    "            g += 1    \n",
    "    bond.pop(0)\n",
    "    bond.pop(11)\n",
    "    bond.pop(20)\n",
    "    bond.pop(23)\n",
    "    import pandas as pd\n",
    "    columns = {'Bond': bond, 'Price': price}\n",
    "    df = pd.DataFrame(columns)\n",
    "    df['Price'] = df['Price'].map(quitar)\n",
    "    return df"
   ]
  },
  {
   "cell_type": "code",
   "execution_count": 4,
   "metadata": {
    "collapsed": true
   },
   "outputs": [],
   "source": [
    "def update_date():\n",
    "    from urllib.request import urlopen \n",
    "    from bs4 import BeautifulSoup\n",
    "    html = urlopen(\"http://www.tesouro.fazenda.gov.br/web/stn/tesouro-direto-precos-e-taxas-dos-titulos\") \n",
    "    bsObj = BeautifulSoup(html, \"lxml\")\n",
    "    update = bsObj.findAll(\"div\",{\"class\":\"portlet-body\"})[13]\n",
    "    fecha = update.findAll(\"b\")[-1].contents\n",
    "    return fecha[0]"
   ]
  },
  {
   "cell_type": "code",
   "execution_count": 5,
   "metadata": {
    "collapsed": true
   },
   "outputs": [],
   "source": [
    "def coger_todo():\n",
    "    df = scrap_bonds()\n",
    "    fecha = update_date()\n",
    "    return df, fecha"
   ]
  }
 ],
 "metadata": {
  "kernelspec": {
   "display_name": "Python [Root]",
   "language": "python",
   "name": "Python [Root]"
  },
  "language_info": {
   "codemirror_mode": {
    "name": "ipython",
    "version": 3
   },
   "file_extension": ".py",
   "mimetype": "text/x-python",
   "name": "python",
   "nbconvert_exporter": "python",
   "pygments_lexer": "ipython3",
   "version": "3.5.2"
  },
  "latex_envs": {
   "bibliofile": "biblio.bib",
   "cite_by": "apalike",
   "current_citInitial": 1,
   "eqLabelWithNumbers": true,
   "eqNumInitial": 0
  }
 },
 "nbformat": 4,
 "nbformat_minor": 0
}
