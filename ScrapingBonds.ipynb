{
 "cells": [
  {
   "cell_type": "code",
   "execution_count": 87,
   "metadata": {
    "collapsed": false
   },
   "outputs": [
    {
     "data": {
      "text/plain": [
       "'Indexados ao IGP-M'"
      ]
     },
     "execution_count": 87,
     "metadata": {},
     "output_type": "execute_result"
    }
   ],
   "source": [
    "import csv\n",
    "from urllib.request import urlopen \n",
    "from bs4 import BeautifulSoup\n",
    "html = urlopen(\"http://www.tesouro.fazenda.gov.br/web/stn/tesouro-direto-precos-e-taxas-dos-titulos\") \n",
    "bsObj = BeautifulSoup(html, \"lxml\")\n",
    "#The main comparison table is currently the first table on the page \n",
    "table = bsObj.findAll(\"table\",{\"class\":\"tabelaPrecoseTaxas sanfonado\"})\n",
    "bond = []\n",
    "price = []\n",
    "i = 0\n",
    "for row in table[0].findAll(\"tr\"):\n",
    "    g = 0\n",
    "    for col in row.find_all('td'):\n",
    "        if g == 0:\n",
    "            bond.append(col.string.strip())\n",
    "        elif g == 3:\n",
    "            price.append(col.string.strip())\n",
    "        g += 1    \n",
    "bond.pop(0)\n",
    "bond.pop(11)\n",
    "bond.pop(20)\n",
    "bond.pop(23)"
   ]
  },
  {
   "cell_type": "code",
   "execution_count": 45,
   "metadata": {
    "collapsed": false
   },
   "outputs": [],
   "source": [
    "cosa = []\n",
    "i = 0\n",
    "for row in table[0].findAll(\"tr\"):\n",
    "    i += 1\n",
    "    if len(row.find_all('td')) < 4:\n",
    "        cosa.append(i)\n",
    "        # print(len(row.find_all('td')))"
   ]
  },
  {
   "cell_type": "code",
   "execution_count": 89,
   "metadata": {
    "collapsed": false
   },
   "outputs": [
    {
     "data": {
      "text/html": [
       "<div>\n",
       "<table border=\"1\" class=\"dataframe\">\n",
       "  <thead>\n",
       "    <tr style=\"text-align: right;\">\n",
       "      <th></th>\n",
       "      <th>Bond</th>\n",
       "      <th>Price</th>\n",
       "    </tr>\n",
       "  </thead>\n",
       "  <tbody>\n",
       "    <tr>\n",
       "      <th>0</th>\n",
       "      <td>Tesouro IPCA+ 2019 (NTNB Princ)</td>\n",
       "      <td>R$2.634,77</td>\n",
       "    </tr>\n",
       "    <tr>\n",
       "      <th>1</th>\n",
       "      <td>Tesouro IPCA+ 2024 (NTNB Princ)</td>\n",
       "      <td>R$2.010,24</td>\n",
       "    </tr>\n",
       "    <tr>\n",
       "      <th>2</th>\n",
       "      <td>Tesouro IPCA+ 2035 (NTNB Princ)</td>\n",
       "      <td>R$1.153,14</td>\n",
       "    </tr>\n",
       "    <tr>\n",
       "      <th>3</th>\n",
       "      <td>Tesouro IPCA+ 2045 (NTNB Princ)</td>\n",
       "      <td>R$686,39</td>\n",
       "    </tr>\n",
       "    <tr>\n",
       "      <th>4</th>\n",
       "      <td>Tesouro IPCA+ com Juros Semestrais 2017 (NTNB)</td>\n",
       "      <td>R$3.013,47</td>\n",
       "    </tr>\n",
       "  </tbody>\n",
       "</table>\n",
       "</div>"
      ],
      "text/plain": [
       "                                             Bond       Price\n",
       "0                 Tesouro IPCA+ 2019 (NTNB Princ)  R$2.634,77\n",
       "1                 Tesouro IPCA+ 2024 (NTNB Princ)  R$2.010,24\n",
       "2                 Tesouro IPCA+ 2035 (NTNB Princ)  R$1.153,14\n",
       "3                 Tesouro IPCA+ 2045 (NTNB Princ)    R$686,39\n",
       "4  Tesouro IPCA+ com Juros Semestrais 2017 (NTNB)  R$3.013,47"
      ]
     },
     "execution_count": 89,
     "metadata": {},
     "output_type": "execute_result"
    }
   ],
   "source": [
    "import pandas as pd\n",
    "columns = {'Bond': bond, 'Price': price}\n",
    "df = pd.DataFrame(columns)\n",
    "df.head()"
   ]
  },
  {
   "cell_type": "code",
   "execution_count": 104,
   "metadata": {
    "collapsed": false
   },
   "outputs": [],
   "source": [
    "def quitar(x):\n",
    "    y = x[2:len(x)]\n",
    "    w = y.replace('.', '')\n",
    "    return float(w.replace(',', '.'))"
   ]
  },
  {
   "cell_type": "code",
   "execution_count": 114,
   "metadata": {
    "collapsed": false
   },
   "outputs": [
    {
     "data": {
      "text/plain": [
       "['Tesouro IPCA+ 2019 (NTNB Princ)',\n",
       " 'Tesouro IPCA+ 2024 (NTNB Princ)',\n",
       " 'Tesouro IPCA+ 2035 (NTNB Princ)',\n",
       " 'Tesouro IPCA+ 2045 (NTNB Princ)',\n",
       " 'Tesouro IPCA+ com Juros Semestrais 2017 (NTNB)',\n",
       " 'Tesouro IPCA+ com Juros Semestrais 2020 (NTNB)',\n",
       " 'Tesouro IPCA+ com Juros Semestrais 2024 (NTNB)',\n",
       " 'Tesouro IPCA+ com Juros Semestrais 2026 (NTNB)',\n",
       " 'Tesouro IPCA+ com Juros Semestrais 2035 (NTNB)',\n",
       " 'Tesouro IPCA+ com Juros Semestrais 2045 (NTNB)',\n",
       " 'Tesouro IPCA+ com Juros Semestrais 2050 (NTNB)',\n",
       " 'Tesouro Prefixado 2018 (LTN)',\n",
       " 'Tesouro Prefixado 2019 (LTN)',\n",
       " 'Tesouro Prefixado 2020 (LTN)',\n",
       " 'Tesouro Prefixado 2021 (LTN)',\n",
       " 'Tesouro Prefixado 2023 (LTN)',\n",
       " 'Tesouro Prefixado com Juros Semestrais 2021 (NTNF)',\n",
       " 'Tesouro Prefixado com Juros Semestrais 2023 (NTNF)',\n",
       " 'Tesouro Prefixado com Juros Semestrais 2025 (NTNF)',\n",
       " 'Tesouro Prefixado com Juros Semestrais 2027 (NTNF)',\n",
       " 'Tesouro Selic 2017 (LFT)',\n",
       " 'Tesouro Selic 2021 (LFT)',\n",
       " 'Tesouro Selic 2023 (LFT)',\n",
       " 'Tesouro IGPM+ com Juros Semestrais 2017 (NTNC)',\n",
       " 'Tesouro IGPM+ com Juros Semestrais 2021 (NTNC)',\n",
       " 'Tesouro IGPM+ com Juros Semestrais 2031 (NTNC)']"
      ]
     },
     "execution_count": 114,
     "metadata": {},
     "output_type": "execute_result"
    }
   ],
   "source": [
    "bond"
   ]
  },
  {
   "cell_type": "code",
   "execution_count": 109,
   "metadata": {
    "collapsed": false
   },
   "outputs": [
    {
     "data": {
      "text/plain": [
       "0     2634.77\n",
       "1     2010.24\n",
       "2     1153.14\n",
       "3      686.39\n",
       "4     3013.47\n",
       "5     3102.07\n",
       "6     3166.80\n",
       "7     3183.90\n",
       "8     3234.86\n",
       "9     3259.80\n",
       "10    3354.34\n",
       "11     915.44\n",
       "12     834.91\n",
       "13     756.10\n",
       "14     682.96\n",
       "15     555.07\n",
       "16    1004.02\n",
       "17     994.85\n",
       "18     991.80\n",
       "19     989.75\n",
       "20    8571.06\n",
       "21    8540.23\n",
       "22    8519.76\n",
       "23    3638.25\n",
       "24    3748.54\n",
       "25    5875.38\n",
       "Name: Price, dtype: object"
      ]
     },
     "execution_count": 109,
     "metadata": {},
     "output_type": "execute_result"
    }
   ],
   "source": [
    "df['Price'].map(quitar)"
   ]
  },
  {
   "cell_type": "code",
   "execution_count": 111,
   "metadata": {
    "collapsed": true
   },
   "outputs": [],
   "source": [
    "def scrap_bonds():\n",
    "    import csv\n",
    "    from urllib.request import urlopen \n",
    "    from bs4 import BeautifulSoup\n",
    "    html = urlopen(\"http://www.tesouro.fazenda.gov.br/web/stn/tesouro-direto-precos-e-taxas-dos-titulos\") \n",
    "    bsObj = BeautifulSoup(html, \"lxml\")\n",
    "    table = bsObj.findAll(\"table\",{\"class\":\"tabelaPrecoseTaxas sanfonado\"})\n",
    "    bond = []\n",
    "    price = []\n",
    "    i = 0\n",
    "    for row in table[0].findAll(\"tr\"):\n",
    "        g = 0\n",
    "        for col in row.find_all('td'):\n",
    "            if g == 0:\n",
    "                bond.append(col.string.strip())\n",
    "            elif g == 3:\n",
    "                price.append(col.string.strip())\n",
    "            g += 1    \n",
    "    bond.pop(0)\n",
    "    bond.pop(11)\n",
    "    bond.pop(20)\n",
    "    bond.pop(23)\n",
    "    import pandas as pd\n",
    "    columns = {'Bond': bond, 'Price': price}\n",
    "    df = pd.DataFrame(columns)\n",
    "    df['Price'] = df['Price'].map(quitar)\n",
    "    return df"
   ]
  },
  {
   "cell_type": "code",
   "execution_count": 113,
   "metadata": {
    "collapsed": false
   },
   "outputs": [
    {
     "data": {
      "text/html": [
       "<div>\n",
       "<table border=\"1\" class=\"dataframe\">\n",
       "  <thead>\n",
       "    <tr style=\"text-align: right;\">\n",
       "      <th></th>\n",
       "      <th>0</th>\n",
       "      <th>1</th>\n",
       "      <th>2</th>\n",
       "      <th>3</th>\n",
       "      <th>4</th>\n",
       "      <th>5</th>\n",
       "      <th>6</th>\n",
       "      <th>7</th>\n",
       "      <th>8</th>\n",
       "      <th>9</th>\n",
       "      <th>...</th>\n",
       "      <th>16</th>\n",
       "      <th>17</th>\n",
       "      <th>18</th>\n",
       "      <th>19</th>\n",
       "      <th>20</th>\n",
       "      <th>21</th>\n",
       "      <th>22</th>\n",
       "      <th>23</th>\n",
       "      <th>24</th>\n",
       "      <th>25</th>\n",
       "    </tr>\n",
       "  </thead>\n",
       "  <tbody>\n",
       "    <tr>\n",
       "      <th>Bond</th>\n",
       "      <td>Tesouro IPCA+ 2019 (NTNB Princ)</td>\n",
       "      <td>Tesouro IPCA+ 2024 (NTNB Princ)</td>\n",
       "      <td>Tesouro IPCA+ 2035 (NTNB Princ)</td>\n",
       "      <td>Tesouro IPCA+ 2045 (NTNB Princ)</td>\n",
       "      <td>Tesouro IPCA+ com Juros Semestrais 2017 (NTNB)</td>\n",
       "      <td>Tesouro IPCA+ com Juros Semestrais 2020 (NTNB)</td>\n",
       "      <td>Tesouro IPCA+ com Juros Semestrais 2024 (NTNB)</td>\n",
       "      <td>Tesouro IPCA+ com Juros Semestrais 2026 (NTNB)</td>\n",
       "      <td>Tesouro IPCA+ com Juros Semestrais 2035 (NTNB)</td>\n",
       "      <td>Tesouro IPCA+ com Juros Semestrais 2045 (NTNB)</td>\n",
       "      <td>...</td>\n",
       "      <td>Tesouro Prefixado com Juros Semestrais 2021 (N...</td>\n",
       "      <td>Tesouro Prefixado com Juros Semestrais 2023 (N...</td>\n",
       "      <td>Tesouro Prefixado com Juros Semestrais 2025 (N...</td>\n",
       "      <td>Tesouro Prefixado com Juros Semestrais 2027 (N...</td>\n",
       "      <td>Tesouro Selic 2017 (LFT)</td>\n",
       "      <td>Tesouro Selic 2021 (LFT)</td>\n",
       "      <td>Tesouro Selic 2023 (LFT)</td>\n",
       "      <td>Tesouro IGPM+ com Juros Semestrais 2017 (NTNC)</td>\n",
       "      <td>Tesouro IGPM+ com Juros Semestrais 2021 (NTNC)</td>\n",
       "      <td>Tesouro IGPM+ com Juros Semestrais 2031 (NTNC)</td>\n",
       "    </tr>\n",
       "    <tr>\n",
       "      <th>Price</th>\n",
       "      <td>2634.77</td>\n",
       "      <td>2010.24</td>\n",
       "      <td>1153.14</td>\n",
       "      <td>686.39</td>\n",
       "      <td>3013.47</td>\n",
       "      <td>3102.07</td>\n",
       "      <td>3166.80</td>\n",
       "      <td>3183.90</td>\n",
       "      <td>3234.86</td>\n",
       "      <td>3259.80</td>\n",
       "      <td>...</td>\n",
       "      <td>1004.02</td>\n",
       "      <td>994.85</td>\n",
       "      <td>991.80</td>\n",
       "      <td>989.75</td>\n",
       "      <td>8571.06</td>\n",
       "      <td>8540.23</td>\n",
       "      <td>8519.76</td>\n",
       "      <td>3638.25</td>\n",
       "      <td>3748.54</td>\n",
       "      <td>5875.38</td>\n",
       "    </tr>\n",
       "  </tbody>\n",
       "</table>\n",
       "<p>2 rows × 26 columns</p>\n",
       "</div>"
      ],
      "text/plain": [
       "                                    0                                1   \\\n",
       "Bond   Tesouro IPCA+ 2019 (NTNB Princ)  Tesouro IPCA+ 2024 (NTNB Princ)   \n",
       "Price                          2634.77                          2010.24   \n",
       "\n",
       "                                    2                                3   \\\n",
       "Bond   Tesouro IPCA+ 2035 (NTNB Princ)  Tesouro IPCA+ 2045 (NTNB Princ)   \n",
       "Price                          1153.14                           686.39   \n",
       "\n",
       "                                                   4   \\\n",
       "Bond   Tesouro IPCA+ com Juros Semestrais 2017 (NTNB)   \n",
       "Price                                         3013.47   \n",
       "\n",
       "                                                   5   \\\n",
       "Bond   Tesouro IPCA+ com Juros Semestrais 2020 (NTNB)   \n",
       "Price                                         3102.07   \n",
       "\n",
       "                                                   6   \\\n",
       "Bond   Tesouro IPCA+ com Juros Semestrais 2024 (NTNB)   \n",
       "Price                                         3166.80   \n",
       "\n",
       "                                                   7   \\\n",
       "Bond   Tesouro IPCA+ com Juros Semestrais 2026 (NTNB)   \n",
       "Price                                         3183.90   \n",
       "\n",
       "                                                   8   \\\n",
       "Bond   Tesouro IPCA+ com Juros Semestrais 2035 (NTNB)   \n",
       "Price                                         3234.86   \n",
       "\n",
       "                                                   9   \\\n",
       "Bond   Tesouro IPCA+ com Juros Semestrais 2045 (NTNB)   \n",
       "Price                                         3259.80   \n",
       "\n",
       "                            ...                        \\\n",
       "Bond                        ...                         \n",
       "Price                       ...                         \n",
       "\n",
       "                                                      16  \\\n",
       "Bond   Tesouro Prefixado com Juros Semestrais 2021 (N...   \n",
       "Price                                            1004.02   \n",
       "\n",
       "                                                      17  \\\n",
       "Bond   Tesouro Prefixado com Juros Semestrais 2023 (N...   \n",
       "Price                                             994.85   \n",
       "\n",
       "                                                      18  \\\n",
       "Bond   Tesouro Prefixado com Juros Semestrais 2025 (N...   \n",
       "Price                                             991.80   \n",
       "\n",
       "                                                      19  \\\n",
       "Bond   Tesouro Prefixado com Juros Semestrais 2027 (N...   \n",
       "Price                                             989.75   \n",
       "\n",
       "                             20                        21  \\\n",
       "Bond   Tesouro Selic 2017 (LFT)  Tesouro Selic 2021 (LFT)   \n",
       "Price                   8571.06                   8540.23   \n",
       "\n",
       "                             22  \\\n",
       "Bond   Tesouro Selic 2023 (LFT)   \n",
       "Price                   8519.76   \n",
       "\n",
       "                                                   23  \\\n",
       "Bond   Tesouro IGPM+ com Juros Semestrais 2017 (NTNC)   \n",
       "Price                                         3638.25   \n",
       "\n",
       "                                                   24  \\\n",
       "Bond   Tesouro IGPM+ com Juros Semestrais 2021 (NTNC)   \n",
       "Price                                         3748.54   \n",
       "\n",
       "                                                   25  \n",
       "Bond   Tesouro IGPM+ com Juros Semestrais 2031 (NTNC)  \n",
       "Price                                         5875.38  \n",
       "\n",
       "[2 rows x 26 columns]"
      ]
     },
     "execution_count": 113,
     "metadata": {},
     "output_type": "execute_result"
    }
   ],
   "source": [
    "datos = scrap_bonds()\n"
   ]
  },
  {
   "cell_type": "code",
   "execution_count": 220,
   "metadata": {
    "collapsed": false
   },
   "outputs": [],
   "source": [
    "import csv\n",
    "from urllib.request import urlopen \n",
    "from bs4 import BeautifulSoup\n",
    "html = urlopen(\"http://www.tesouro.fazenda.gov.br/web/stn/tesouro-direto-precos-e-taxas-dos-titulos\") \n",
    "bsObj = BeautifulSoup(html, \"lxml\")\n",
    "update = bsObj.findAll(\"div\",{\"class\":\"portlet-body\"})[13]"
   ]
  },
  {
   "cell_type": "code",
   "execution_count": 231,
   "metadata": {
    "collapsed": false
   },
   "outputs": [
    {
     "ename": "IndexError",
     "evalue": "list index out of range",
     "output_type": "error",
     "traceback": [
      "\u001b[0;31m---------------------------------------------------------------------------\u001b[0m",
      "\u001b[0;31mIndexError\u001b[0m                                Traceback (most recent call last)",
      "\u001b[0;32m<ipython-input-231-7acf834e29f6>\u001b[0m in \u001b[0;36m<module>\u001b[0;34m()\u001b[0m\n\u001b[0;32m----> 1\u001b[0;31m \u001b[0mprint\u001b[0m\u001b[0;34m(\u001b[0m\u001b[0mupdate\u001b[0m\u001b[0;34m.\u001b[0m\u001b[0mfindAll\u001b[0m\u001b[0;34m(\u001b[0m\u001b[0;34m\"br\"\u001b[0m\u001b[0;34m)\u001b[0m\u001b[0;34m[\u001b[0m\u001b[0;36m6\u001b[0m\u001b[0;34m]\u001b[0m\u001b[0;34m.\u001b[0m\u001b[0mcontent\u001b[0m\u001b[0;34m)\u001b[0m\u001b[0;34m\u001b[0m\u001b[0m\n\u001b[0m",
      "\u001b[0;31mIndexError\u001b[0m: list index out of range"
     ]
    }
   ],
   "source": [
    "print(update.findAll(\"br\")[6].content)"
   ]
  },
  {
   "cell_type": "code",
   "execution_count": 235,
   "metadata": {
    "collapsed": false
   },
   "outputs": [
    {
     "data": {
      "text/plain": [
       "['10/02/2017 15:40']"
      ]
     },
     "execution_count": 235,
     "metadata": {},
     "output_type": "execute_result"
    }
   ],
   "source": [
    "update.findAll(\"b\")[-1].contents"
   ]
  },
  {
   "cell_type": "code",
   "execution_count": 150,
   "metadata": {
    "collapsed": false
   },
   "outputs": [
    {
     "data": {
      "text/plain": [
       "<br/>"
      ]
     },
     "execution_count": 150,
     "metadata": {},
     "output_type": "execute_result"
    }
   ],
   "source": [
    "item = x.findAll(\"br\")\n",
    "    for br in item:\n",
    "        print(br.contents)"
   ]
  },
  {
   "cell_type": "code",
   "execution_count": 241,
   "metadata": {
    "collapsed": true
   },
   "outputs": [],
   "source": [
    "def update_date():\n",
    "    from urllib.request import urlopen \n",
    "    from bs4 import BeautifulSoup\n",
    "    html = urlopen(\"http://www.tesouro.fazenda.gov.br/web/stn/tesouro-direto-precos-e-taxas-dos-titulos\") \n",
    "    bsObj = BeautifulSoup(html, \"lxml\")\n",
    "    update = bsObj.findAll(\"div\",{\"class\":\"portlet-body\"})[13]\n",
    "    fecha = update.findAll(\"b\")[-1].contents\n",
    "    return fecha[0]"
   ]
  },
  {
   "cell_type": "code",
   "execution_count": 242,
   "metadata": {
    "collapsed": false
   },
   "outputs": [
    {
     "name": "stdout",
     "output_type": "stream",
     "text": [
      "10/02/2017 15:40\n"
     ]
    }
   ],
   "source": [
    "print(update_date())"
   ]
  },
  {
   "cell_type": "code",
   "execution_count": null,
   "metadata": {
    "collapsed": true
   },
   "outputs": [],
   "source": []
  }
 ],
 "metadata": {
  "kernelspec": {
   "display_name": "Python [Root]",
   "language": "python",
   "name": "Python [Root]"
  },
  "language_info": {
   "codemirror_mode": {
    "name": "ipython",
    "version": 3
   },
   "file_extension": ".py",
   "mimetype": "text/x-python",
   "name": "python",
   "nbconvert_exporter": "python",
   "pygments_lexer": "ipython3",
   "version": "3.5.2"
  },
  "latex_envs": {
   "bibliofile": "biblio.bib",
   "cite_by": "apalike",
   "current_citInitial": 1,
   "eqLabelWithNumbers": true,
   "eqNumInitial": 0
  }
 },
 "nbformat": 4,
 "nbformat_minor": 0
}
